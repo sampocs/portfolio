{
 "cells": [
  {
   "cell_type": "code",
   "execution_count": 1,
   "id": "8fbcd8d6",
   "metadata": {},
   "outputs": [],
   "source": [
    "import pandas as pd\n",
    "from pathlib import Path\n",
    "import os\n",
    "\n",
    "ASSETS = [\"BTC\", \"SOL\", \"ETH\"]\n",
    "DATA_DIR = Path(os.getcwd()).parent.parent.parent / \"data\" \n",
    "\n",
    "INPUT_DIR = DATA_DIR / \"prices\" / \"raw\"\n",
    "OUTPUT_FILE = DATA_DIR / \"prices\" / \"clean\" / \"crypto_clean.csv\""
   ]
  },
  {
   "cell_type": "code",
   "execution_count": null,
   "id": "6c3f9c1c",
   "metadata": {},
   "outputs": [
    {
     "data": {
      "text/html": [
       "<div>\n",
       "<style scoped>\n",
       "    .dataframe tbody tr th:only-of-type {\n",
       "        vertical-align: middle;\n",
       "    }\n",
       "\n",
       "    .dataframe tbody tr th {\n",
       "        vertical-align: top;\n",
       "    }\n",
       "\n",
       "    .dataframe thead th {\n",
       "        text-align: right;\n",
       "    }\n",
       "</style>\n",
       "<table border=\"1\" class=\"dataframe\">\n",
       "  <thead>\n",
       "    <tr style=\"text-align: right;\">\n",
       "      <th></th>\n",
       "      <th>asset</th>\n",
       "      <th>date</th>\n",
       "      <th>price</th>\n",
       "    </tr>\n",
       "  </thead>\n",
       "  <tbody>\n",
       "    <tr>\n",
       "      <th>0</th>\n",
       "      <td>BTC</td>\n",
       "      <td>2013-04-28</td>\n",
       "      <td>135.30</td>\n",
       "    </tr>\n",
       "    <tr>\n",
       "      <th>1</th>\n",
       "      <td>BTC</td>\n",
       "      <td>2013-04-29</td>\n",
       "      <td>141.96</td>\n",
       "    </tr>\n",
       "    <tr>\n",
       "      <th>2</th>\n",
       "      <td>BTC</td>\n",
       "      <td>2013-04-30</td>\n",
       "      <td>135.30</td>\n",
       "    </tr>\n",
       "    <tr>\n",
       "      <th>3</th>\n",
       "      <td>BTC</td>\n",
       "      <td>2013-05-01</td>\n",
       "      <td>117.00</td>\n",
       "    </tr>\n",
       "    <tr>\n",
       "      <th>4</th>\n",
       "      <td>BTC</td>\n",
       "      <td>2013-05-02</td>\n",
       "      <td>103.43</td>\n",
       "    </tr>\n",
       "  </tbody>\n",
       "</table>\n",
       "</div>"
      ],
      "text/plain": [
       "  asset        date   price\n",
       "0   BTC  2013-04-28  135.30\n",
       "1   BTC  2013-04-29  141.96\n",
       "2   BTC  2013-04-30  135.30\n",
       "3   BTC  2013-05-01  117.00\n",
       "4   BTC  2013-05-02  103.43"
      ]
     },
     "execution_count": 2,
     "metadata": {},
     "output_type": "execute_result"
    }
   ],
   "source": [
    "def format_asset_df(asset: str) -> pd.DataFrame:\n",
    "    df = pd.read_csv(INPUT_DIR / f\"{asset}_raw.csv\")\n",
    "\n",
    "    df[\"asset\"] = asset\n",
    "    df[\"date\"] = df[\"snapped_at\"].str.slice(0, 10)\n",
    "\n",
    "    return df[[\"asset\", \"date\", \"price\"]]\n",
    "\n",
    "crypto_df = pd.concat([format_asset_df(asset) for asset in ASSETS])\n",
    "crypto_df = crypto_df.sort_values([\"date\", \"asset\"]).reset_index(drop=True)\n",
    "crypto_df.head()"
   ]
  },
  {
   "cell_type": "code",
   "execution_count": 3,
   "id": "34b59570",
   "metadata": {},
   "outputs": [],
   "source": [
    "assert crypto_df.shape == (10084, 3)"
   ]
  },
  {
   "cell_type": "code",
   "execution_count": 4,
   "id": "89ec692e",
   "metadata": {},
   "outputs": [],
   "source": [
    "crypto_df.to_csv(OUTPUT_FILE, index=False)"
   ]
  },
  {
   "cell_type": "code",
   "execution_count": null,
   "id": "67d63d91",
   "metadata": {},
   "outputs": [],
   "source": []
  }
 ],
 "metadata": {
  "kernelspec": {
   "display_name": "portfolio",
   "language": "python",
   "name": "python3"
  },
  "language_info": {
   "codemirror_mode": {
    "name": "ipython",
    "version": 3
   },
   "file_extension": ".py",
   "mimetype": "text/x-python",
   "name": "python",
   "nbconvert_exporter": "python",
   "pygments_lexer": "ipython3",
   "version": "3.11.13"
  }
 },
 "nbformat": 4,
 "nbformat_minor": 5
}
