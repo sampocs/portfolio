{
 "cells": [
  {
   "cell_type": "code",
   "execution_count": 5,
   "id": "2d8cfbfe",
   "metadata": {},
   "outputs": [],
   "source": [
    "import pandas as pd\n",
    "from pathlib import Path\n",
    "import os\n",
    "from urllib import parse\n",
    "import dotenv\n",
    "\n",
    "dotenv.load_dotenv(\"../../../.env\")\n",
    "ALPHA_VANTAGE_API_KEY = os.environ[\"ALPHA_VANTAGE_API_KEY\"]\n",
    "\n",
    "ALPHA_VANTAGE_API = \"https://www.alphavantage.co/query\"\n",
    "ALPHA_VANTAGE_PARAMS = {\"function\": \"TIME_SERIES_DAILY\", \"outputsize\": \"full\", \"datatype\": \"csv\", \"apikey\": ALPHA_VANTAGE_API_KEY}\n",
    "\n",
    "ASSETS = [\"VT\", \"VOO\", \"VO\", \"VB\", \"VXUS\", \"VWO\", \"COIN\", \"HOOD\", \"AAAU\", \"VNQ\"]\n",
    "DATA_DIR = Path(os.getcwd()).parent.parent.parent / \"data\" \n",
    "\n",
    "INPUT_DIR = DATA_DIR / \"prices\" / \"raw\"\n",
    "OUTPUT_FILE = DATA_DIR / \"prices\" / \"clean\" / \"crypto_clean.csv\""
   ]
  },
  {
   "cell_type": "code",
   "execution_count": 6,
   "id": "d65026b8",
   "metadata": {},
   "outputs": [
    {
     "data": {
      "text/html": [
       "<div>\n",
       "<style scoped>\n",
       "    .dataframe tbody tr th:only-of-type {\n",
       "        vertical-align: middle;\n",
       "    }\n",
       "\n",
       "    .dataframe tbody tr th {\n",
       "        vertical-align: top;\n",
       "    }\n",
       "\n",
       "    .dataframe thead th {\n",
       "        text-align: right;\n",
       "    }\n",
       "</style>\n",
       "<table border=\"1\" class=\"dataframe\">\n",
       "  <thead>\n",
       "    <tr style=\"text-align: right;\">\n",
       "      <th></th>\n",
       "      <th>asset</th>\n",
       "      <th>date</th>\n",
       "      <th>price</th>\n",
       "    </tr>\n",
       "  </thead>\n",
       "  <tbody>\n",
       "    <tr>\n",
       "      <th>0</th>\n",
       "      <td>VB</td>\n",
       "      <td>2004-01-30</td>\n",
       "      <td>49.00</td>\n",
       "    </tr>\n",
       "    <tr>\n",
       "      <th>1</th>\n",
       "      <td>VO</td>\n",
       "      <td>2004-01-30</td>\n",
       "      <td>49.35</td>\n",
       "    </tr>\n",
       "    <tr>\n",
       "      <th>2</th>\n",
       "      <td>VB</td>\n",
       "      <td>2004-02-02</td>\n",
       "      <td>49.20</td>\n",
       "    </tr>\n",
       "    <tr>\n",
       "      <th>3</th>\n",
       "      <td>VO</td>\n",
       "      <td>2004-02-02</td>\n",
       "      <td>49.71</td>\n",
       "    </tr>\n",
       "    <tr>\n",
       "      <th>4</th>\n",
       "      <td>VB</td>\n",
       "      <td>2004-02-03</td>\n",
       "      <td>49.07</td>\n",
       "    </tr>\n",
       "  </tbody>\n",
       "</table>\n",
       "</div>"
      ],
      "text/plain": [
       "  asset        date  price\n",
       "0    VB  2004-01-30  49.00\n",
       "1    VO  2004-01-30  49.35\n",
       "2    VB  2004-02-02  49.20\n",
       "3    VO  2004-02-02  49.71\n",
       "4    VB  2004-02-03  49.07"
      ]
     },
     "execution_count": 6,
     "metadata": {},
     "output_type": "execute_result"
    }
   ],
   "source": [
    "def format_asset_df(asset: str) -> pd.DataFrame:\n",
    "    params = parse.urlencode(dict(**ALPHA_VANTAGE_PARAMS, **{\"symbol\": asset}))\n",
    "    df = pd.read_csv(f\"{ALPHA_VANTAGE_API}?{params}\")\n",
    "\n",
    "    df[\"asset\"] = asset\n",
    "    df[\"date\"] = df[\"timestamp\"]\n",
    "    df[\"price\"] = df[\"close\"]\n",
    "\n",
    "    return df[[\"asset\", \"date\", \"price\"]]\n",
    "\n",
    "\n",
    "stock_df = pd.concat([format_asset_df(asset) for asset in ASSETS])\n",
    "stock_df = stock_df.sort_values([\"date\", \"asset\"]).reset_index(drop=True)\n",
    "stock_df.head()"
   ]
  },
  {
   "cell_type": "code",
   "execution_count": 9,
   "id": "6256fce9",
   "metadata": {},
   "outputs": [],
   "source": [
    "assert stock_df.shape == (36774, 3)"
   ]
  },
  {
   "cell_type": "code",
   "execution_count": 10,
   "id": "08725cd1",
   "metadata": {},
   "outputs": [],
   "source": [
    "stock_df.to_csv(OUTPUT_FILE, index=False)"
   ]
  },
  {
   "cell_type": "code",
   "execution_count": null,
   "id": "ef566387",
   "metadata": {},
   "outputs": [],
   "source": []
  }
 ],
 "metadata": {
  "kernelspec": {
   "display_name": "portfolio",
   "language": "python",
   "name": "python3"
  },
  "language_info": {
   "codemirror_mode": {
    "name": "ipython",
    "version": 3
   },
   "file_extension": ".py",
   "mimetype": "text/x-python",
   "name": "python",
   "nbconvert_exporter": "python",
   "pygments_lexer": "ipython3",
   "version": "3.11.13"
  }
 },
 "nbformat": 4,
 "nbformat_minor": 5
}
