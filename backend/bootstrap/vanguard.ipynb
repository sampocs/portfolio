{
 "cells": [
  {
   "cell_type": "code",
   "execution_count": 8,
   "id": "a3e4f44e",
   "metadata": {},
   "outputs": [],
   "source": [
    "import pandas as pd\n",
    "import os\n",
    "from pathlib import Path\n",
    "\n",
    "DATA_DIR = Path(os.getcwd()).parent.parent / \"data\""
   ]
  },
  {
   "cell_type": "code",
   "execution_count": null,
   "id": "c8cd29df",
   "metadata": {},
   "outputs": [],
   "source": [
    "pre_sep2024_transactions_raw_df = pd.read_csv(DATA_DIR / \"vanguard_raw_pre_sep2024_transactions.csv\")\n",
    "pre_sep2024_prices_raw_df = pd.read_csv(DATA_DIR / \"vanguard_raw_pre_sep2024_prices.csv\")\n",
    "post_sep2024_raw_df = pd.read_csv(DATA_DIR / \"vanguard_raw_post_sep2024.csv\")"
   ]
  },
  {
   "cell_type": "markdown",
   "id": "fcd8e08b",
   "metadata": {},
   "source": [
    "### Dataframe Schema Information\n",
    "\n",
    "#### Vanguard Pre Sep 2024 Transactions DataFrame\n",
    "- **Columns**: ['Subcategory', 'Total World', 'Large Cap', 'Mid Cap', 'Small Cap', 'International', 'Emerging Markets', 'Inflation Protected', 'Tax Exempt', 'International.1', 'Gold', 'Real Estate']\n",
    "- **Structure**: \n",
    "  - Row 0: Asset tickers (VT, VOO, VO, VB, VXUS, VWO, VTIP, VTEB, BNDX, AAAU, VNQ)\n",
    "  - Row 1: Subcategory totals\n",
    "  - Rows 2+: Date-indexed transaction data with share quantities\n",
    "\n",
    "#### Vanguard Pre Sep 2024 Prices DataFrame\n",
    "- **Columns**: ['Category', 'Stocks', 'Unnamed: 2', 'Unnamed: 3', 'Unnamed: 4', 'Unnamed: 5', 'Unnamed: 6', 'Bonds', 'Unnamed: 8', 'Unnamed: 9', 'Gold', 'Real Estate']\n",
    "- **Structure**:\n",
    "  - Row 0: Category totals\n",
    "  - Row 1: Subcategory labels\n",
    "  - Row 2: Asset tickers (VT, VOO, VO, VB, VXUS, VWO, VTIP, VTEB, BNDX, AAAU, VNQ)\n",
    "  - Row 3: Subcategory totals\n",
    "  - Rows 4+: Date-indexed price data with dollar amounts\n",
    "\n",
    "#### Vanguard Post Sep 2024 DafaFrame\n",
    "- **Columns**: ['Account Number', 'Trade Date', 'Settlement Date', 'Transaction Type', 'Transaction Description', 'Investment Name', 'Symbol', 'Shares', 'Share Price', 'Principal Amount', 'Commissions and Fees', 'Net Amount', 'Accrued Interest', 'Account Type']"
   ]
  },
  {
   "cell_type": "markdown",
   "id": "69ff9620",
   "metadata": {},
   "source": [
    "## Pre Sep 2024 - Data Loaded from Gsheets"
   ]
  },
  {
   "cell_type": "code",
   "execution_count": null,
   "id": "661a5a8b",
   "metadata": {},
   "outputs": [],
   "source": [
    "# Extract tickers from the asset row (index 0 in transactions, index 2 in prices)\n",
    "tx_tickers = pre_sep2024_transactions_raw_df.iloc[0, 1:].values  # Skip first column\n",
    "price_tickers = pre_sep2024_prices_raw_df.iloc[2, 1:].values    # Skip first column\n",
    "\n",
    "# Get the data starting from the actual transaction/price rows\n",
    "tx_data = pre_sep2024_transactions_raw_df.iloc[2:].copy()  # Start from index 2\n",
    "price_data = pre_sep2024_prices_raw_df.iloc[4:].copy()     # Start from index 4\n",
    "\n",
    "tx_data = tx_data.reset_index(drop=True)\n",
    "price_data = price_data.reset_index(drop=True)"
   ]
  },
  {
   "cell_type": "code",
   "execution_count": 11,
   "id": "879a4558",
   "metadata": {},
   "outputs": [
    {
     "data": {
      "text/plain": [
       "array(['VT', 'VOO', 'VO', 'VB', 'VXUS', 'VWO', 'VTIP', 'VTEB', 'BNDX',\n",
       "       'AAAU', 'VNQ'], dtype=object)"
      ]
     },
     "metadata": {},
     "output_type": "display_data"
    },
    {
     "data": {
      "text/plain": [
       "array(['VT', 'VOO', 'VO', 'VB', 'VXUS', 'VWO', 'VTIP', 'VTEB', 'BNDX',\n",
       "       'AAAU', 'VNQ'], dtype=object)"
      ]
     },
     "execution_count": 11,
     "metadata": {},
     "output_type": "execute_result"
    }
   ],
   "source": [
    "display(tx_tickers)\n",
    "price_tickers"
   ]
  },
  {
   "cell_type": "code",
   "execution_count": 12,
   "id": "54eelj2xr1l",
   "metadata": {},
   "outputs": [],
   "source": [
    "# Create the combined data\n",
    "pre_sep2024_data = []\n",
    "for i in range(len(tx_data)):\n",
    "    date = tx_data.iloc[i, 0]  # First column is date\n",
    "    \n",
    "    # Iterate through each ticker column\n",
    "    for j, ticker in enumerate(tx_tickers):\n",
    "        if pd.isna(ticker):  # Skip NaN tickers\n",
    "            continue\n",
    "            \n",
    "        # Get shares from transactions (j+1 because we skip the date column)\n",
    "        shares = tx_data.iloc[i, j+1]\n",
    "        \n",
    "        # Get price from prices dataframe (j+1 because we skip the date column)\n",
    "        price_str = price_data.iloc[i, j+1] if i < len(price_data) else None\n",
    "        \n",
    "        # Only add row if both shares and price exist and are not NaN\n",
    "        if not pd.isna(shares) and not pd.isna(price_str) and shares != 0:\n",
    "            # Clean price string (remove $ and commas)\n",
    "            if isinstance(price_str, str):\n",
    "                price = float(price_str.replace('$', '').replace(',', ''))\n",
    "            else:\n",
    "                price = float(price_str) if not pd.isna(price_str) else None # type: ignore\n",
    "                \n",
    "            if price is not None:\n",
    "                pre_sep2024_data.append({\n",
    "                    'date': date,\n",
    "                    'ticker': ticker,\n",
    "                    'price': price,\n",
    "                    'shares': shares\n",
    "                })"
   ]
  },
  {
   "cell_type": "code",
   "execution_count": 13,
   "id": "0c37eb9f",
   "metadata": {},
   "outputs": [
    {
     "data": {
      "text/html": [
       "<div>\n",
       "<style scoped>\n",
       "    .dataframe tbody tr th:only-of-type {\n",
       "        vertical-align: middle;\n",
       "    }\n",
       "\n",
       "    .dataframe tbody tr th {\n",
       "        vertical-align: top;\n",
       "    }\n",
       "\n",
       "    .dataframe thead th {\n",
       "        text-align: right;\n",
       "    }\n",
       "</style>\n",
       "<table border=\"1\" class=\"dataframe\">\n",
       "  <thead>\n",
       "    <tr style=\"text-align: right;\">\n",
       "      <th></th>\n",
       "      <th>date</th>\n",
       "      <th>ticker</th>\n",
       "      <th>price</th>\n",
       "      <th>shares</th>\n",
       "    </tr>\n",
       "  </thead>\n",
       "  <tbody>\n",
       "    <tr>\n",
       "      <th>0</th>\n",
       "      <td>2021-06-03</td>\n",
       "      <td>VB</td>\n",
       "      <td>223.60</td>\n",
       "      <td>1</td>\n",
       "    </tr>\n",
       "    <tr>\n",
       "      <th>1</th>\n",
       "      <td>2021-06-03</td>\n",
       "      <td>VOO</td>\n",
       "      <td>384.13</td>\n",
       "      <td>1</td>\n",
       "    </tr>\n",
       "    <tr>\n",
       "      <th>2</th>\n",
       "      <td>2021-06-03</td>\n",
       "      <td>VT</td>\n",
       "      <td>102.79</td>\n",
       "      <td>6</td>\n",
       "    </tr>\n",
       "    <tr>\n",
       "      <th>3</th>\n",
       "      <td>2021-06-03</td>\n",
       "      <td>VWO</td>\n",
       "      <td>54.61</td>\n",
       "      <td>1</td>\n",
       "    </tr>\n",
       "    <tr>\n",
       "      <th>4</th>\n",
       "      <td>2021-06-18</td>\n",
       "      <td>AAAU</td>\n",
       "      <td>17.65</td>\n",
       "      <td>5</td>\n",
       "    </tr>\n",
       "    <tr>\n",
       "      <th>5</th>\n",
       "      <td>2021-06-18</td>\n",
       "      <td>BNDX</td>\n",
       "      <td>57.10</td>\n",
       "      <td>1</td>\n",
       "    </tr>\n",
       "    <tr>\n",
       "      <th>6</th>\n",
       "      <td>2021-06-18</td>\n",
       "      <td>VNQ</td>\n",
       "      <td>102.99</td>\n",
       "      <td>1</td>\n",
       "    </tr>\n",
       "    <tr>\n",
       "      <th>7</th>\n",
       "      <td>2021-06-18</td>\n",
       "      <td>VO</td>\n",
       "      <td>232.39</td>\n",
       "      <td>1</td>\n",
       "    </tr>\n",
       "    <tr>\n",
       "      <th>8</th>\n",
       "      <td>2021-06-18</td>\n",
       "      <td>VTEB</td>\n",
       "      <td>55.33</td>\n",
       "      <td>2</td>\n",
       "    </tr>\n",
       "    <tr>\n",
       "      <th>9</th>\n",
       "      <td>2021-06-18</td>\n",
       "      <td>VTIP</td>\n",
       "      <td>52.11</td>\n",
       "      <td>3</td>\n",
       "    </tr>\n",
       "  </tbody>\n",
       "</table>\n",
       "</div>"
      ],
      "text/plain": [
       "        date ticker   price shares\n",
       "0 2021-06-03     VB  223.60      1\n",
       "1 2021-06-03    VOO  384.13      1\n",
       "2 2021-06-03     VT  102.79      6\n",
       "3 2021-06-03    VWO   54.61      1\n",
       "4 2021-06-18   AAAU   17.65      5\n",
       "5 2021-06-18   BNDX   57.10      1\n",
       "6 2021-06-18    VNQ  102.99      1\n",
       "7 2021-06-18     VO  232.39      1\n",
       "8 2021-06-18   VTEB   55.33      2\n",
       "9 2021-06-18   VTIP   52.11      3"
      ]
     },
     "execution_count": 13,
     "metadata": {},
     "output_type": "execute_result"
    }
   ],
   "source": [
    "# Create the final dataframe\n",
    "pre_sep2024_df = pd.DataFrame(pre_sep2024_data)\n",
    "\n",
    "pre_sep2024_df['date'] = pd.to_datetime(pre_sep2024_df['date'])\n",
    "pre_sep2024_df = pre_sep2024_df.sort_values(['date', 'ticker']).reset_index(drop=True)\n",
    "\n",
    "pre_sep2024_df.head(10)"
   ]
  },
  {
   "cell_type": "markdown",
   "id": "e23a80d3",
   "metadata": {},
   "source": [
    "## Post Sep 2024 - Data Loaded from Vanguard Export"
   ]
  },
  {
   "cell_type": "code",
   "execution_count": null,
   "id": "8df2b19d",
   "metadata": {},
   "outputs": [],
   "source": [
    "post_sep2024_data = []\n",
    "\n",
    "for _, row in post_sep2024_raw_df.iterrows():\n",
    "    if row['Transaction Type'] == 'Buy' and not pd.isna(row['Shares']) and not pd.isna(row['Share Price']):\n",
    "        post_sep2024_data.append({\n",
    "            'date': pd.to_datetime(row['Trade Date']),\n",
    "            'ticker': row['Symbol'],\n",
    "            'price': row['Share Price'],\n",
    "            'shares': row['Shares']\n",
    "        })\n",
    "\n",
    "post_sep2024_df = pd.DataFrame(post_sep2024_data)\n",
    "post_sep2024_df = post_sep2024_df.sort_values(['date', 'ticker']).reset_index(drop=True)\n",
    "post_sep2024_df.head(10)"
   ]
  }
 ],
 "metadata": {
  "kernelspec": {
   "display_name": "portfolio",
   "language": "python",
   "name": "python3"
  },
  "language_info": {
   "codemirror_mode": {
    "name": "ipython",
    "version": 3
   },
   "file_extension": ".py",
   "mimetype": "text/x-python",
   "name": "python",
   "nbconvert_exporter": "python",
   "pygments_lexer": "ipython3",
   "version": "3.11.13"
  }
 },
 "nbformat": 4,
 "nbformat_minor": 5
}
